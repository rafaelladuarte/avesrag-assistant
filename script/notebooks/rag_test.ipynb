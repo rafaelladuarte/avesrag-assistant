{
 "cells": [
  {
   "cell_type": "code",
   "execution_count": 3,
   "id": "20d4b086",
   "metadata": {},
   "outputs": [],
   "source": [
    "import minsearch\n",
    "import json"
   ]
  },
  {
   "cell_type": "code",
   "execution_count": 15,
   "id": "8c007e5d",
   "metadata": {},
   "outputs": [
    {
     "data": {
      "text/plain": [
       "{'taxonomia': 'Rhea americana',\n",
       " 'ordem': 'Rheiformes',\n",
       " 'familia': 'Rheidae',\n",
       " 'subfamilia': '',\n",
       " 'genero': 'Rhea',\n",
       " 'especie': 'americana',\n",
       " 'nome_pt': 'ema',\n",
       " 'nome_eng': 'Greater Rhea',\n",
       " 'url_wikiaves': 'https://www.wikiaves.com.br/wiki/ema',\n",
       " 'caracteristicas': '134 – 170 cm de altura dependendo da postura adotada; o macho atinge 34,4 kg e a fêmea 32 kg. É a maior e mais pesada ave brasileira. Tem cor predominulltemente cinza, sendo o macho um pouco mais escuro e tem a base do pescoço, peito anterior e parte mediana do dorso anterior negros; cabeça e pescoço cinza-pardacento, sendo a base do pescoço recoberta por um tufo de penas laterais cinzentas, de modo que o preto do dorso aparece apenas quando a ave se inclina para baixo; as macias e cinzentas penas das asas (incluindo as “plumas”, que correspondem às rêmiges nas outra aves) se dirigem obliquamente de cima para baixo formando um manto que se eleva em uma corcova dorsal e que envolve todo o corpo exceto o traseiro, que é branco e coberto por curtas penas piliformes. Falta inteiramente a cauda e o pigostilo e estão entre as poucas aves que não possuem glândulas uropigianas. A cloaca é marcada por uma mancha escura e há a separação de fezes e urina, ao contrário das outras aves. Os machos adultos possuem um grande pênis, que é posto para fora da cloaca com alguma frequência. A cabeça pequena é dotada dum bico chato e castanho amarelado, semelhante aos dos patos. Pele facial e íris marrom. Têm três dedos, adaptados a sua vida terrestre. Tarso e dedos dos pés castanhos amarelados, sendo que todo o comprimento do tarso é recoberto, com escamas transversais. As emas perderam (ao longo da evolução biológica) a capacidade de voar, sendo aves corredoras. Não possuem quilha, como as restantes aves, estando o esterno transformado numa placa óssea achatada de nome ratis (em latim), que está na origem da designação de ratitas atribuída às aves corredoras. O macho, além de ser mais robusto, tem a cabeça mais perfilada e tem o pescoço e as pernas mais grossos.',\n",
       " 'alimentacao': 'São onívoros, comendo folhas, inclusive as espinhosas e ardidas, frutas, sementes, insetos, principalmente gafanhotos, moluscos, caçam moscas procurando-as perto de carne em putrefação. Apanha qualquer pequeno animal ao seu alcance, como lagartixas, pequenos roedores, rãs e cobras, mas não é propriamente ofiófogo. Procuram queimadas, onde acham coquinhos caídos e animais moribundos; ingerem pedrinhas, ou qualquer coisa que lhes auxilie na trituração dos alimentos. As aves forrageiam caminhando lentamente, mantendo a cabeça abaixo de 50 cm do solo, interrompidas por ocasionais ataques de vigilância em que levantam a cabeça e esquadrinham a área. Com o pescoço curvado em U, se move lentamente, explorando para cima e para baixo, ou de um lado para o outro, com pequenos movimentos da cabeça. Uma vez que localiza um alimento, pega-o com a ponta de seu bico, joga a cabeça alguns centímetros para trás, joga o alimento no ar e pega-o na parte de trás da boca com um impulso para a frente da abertura do bico. Este movimento é executado independentemente do tamanho do alimento. São excelentes dispersores de plantas.',\n",
       " 'reproducao': 'A ema só vocaliza na época do acasalamento, quando o macho produz um som profundo e potente, ouvido de longe, quase como o mugido de um grande mamífero.\\nEm outubro, no começo da época de acasalamento, o macho reúne um harém de 5 a 6 fêmeas, escolhe um território e faz o ninho. Na época do acasalamento, os machos abrem as asas e dão os seus passos de dança. Também cantam à moda deles para as fêmeas (as notas do canto parecem roncos). Quando o ninho e o período de reprodução varia consoante a localização geográfica, ocorrendo algures de agosto a janeiro. Com a elevação da taxa de hormônios, os machos se separam dos grandes bandos e sofrem transformações morfológicas e comportamentais. Nesta fase, ocorre a formação dos haréns contando geralmente com 3 a 6 fêmeas, podendo chegar a 9. Na disputa entre os machos destacam-se as vocalizações, os saltos, as exibições das asas e do pescoço, ataques e expulsões. Fazem a corte à fêmea esticando as asas horizontalmente; correm fazendo roda, abrindo e agitando as asas, executando uma exibição arrebatadora que chega a confundir o espectador pela exuberância das plumas macias eriçadas que a mais leve brisa faz tremular. Levantam a parte posterior do corpo, cerimônia que serve também para intimidação de rivais. Também cantam à moda deles para as fêmeas (as notas do canto parecem roncos). \\n É o macho que constrói o ninho, escavando uma depressão pouco profunda, revestida por vegetação seca e geralmente abrigada na vegetação. Com o bico corta o capim ou qualquer outra folhagem ao redor do ninho pisando a vegetação e puxando o material, o que resulta em uma área perfeitamente limpa de dois a três metros de raio. Essa providência serve em primeiro lugar para acolchoar o ninho e pode ter um valor ainda mais vital ao impedir a aproximação oculta de inimigos e evitar que o fogo das queimadas atinjam o ninho. Verifica-se poligenia simultânea nos machos e poliandria em série nas fêmeas, isto é, em cada época reprodutora, cada macho reúne um grupo de várias fêmeas com as quais acasala e estas realizam, em conjunto, uma postura no ninho que ele construiu; em seguida, essas fêmeas abandonam o macho à tarefa de incubar os ovos e procuram outro macho com quem acasalam e realizam nova postura. As fêmeas realizam várias posturas na mesma época reprodutora. Cada ninho conta com geralmente 20 a 30 ovos, postos por várias fêmeas diferentes, que botam em cada ninho de 4 a 5 ovos. O peso dos ovos é variável, com uma média em torno de 605 gramas. São elípticos, brilhantes e dourados, tornulldo-se brancos após 5 a 6 dias de exposição ao sol. O choco é de responsabilidade do macho, que altera frequentemente sua posição no ninho, girando uma volta completa (360 graus) a cada 24 horas, desse modo todos os ovos são chocados regularmente. O macho defende o ninho de invasores com o pescoço esticado horizontalmente e serpenteando no chão, sibilando como uma cobra, em atitude extremamente atemorizadora. O predador que mais ataca o ninho é o lagarto teiú, que espera que o macho saia do ninho para atacar; o tatu também gosta dos ovos da ema. A incubação começa 5 a 8 dias após as fêmeas terem iniciado a postura (o que implica em períodos de incubação com até 12 dias de diferença) e pode durar de 27 a 41 dias. Os filhotes nascem todos no mesmo dia, com apenas algumas horas de diferença. Logo após o nascimento, os ovos eclodidos e os gorados costumam exalar um odor forte que atrai grande quantidade moscas que servem de alimento para os filhotes nos primeiros dias. O macho cuida dos filhotes ensinulldo-os a comer e dando toda a proteção que necessitam dos inimigos naturais, como cachorros-do-mato, lagartos, gaviões etc. Com 6 meses de vida, os filhotes já estão fortes e quase do tamanho de uma fêmea. As crias são nidífugas, isto é, abandonam o ninho precocemente, neste caso, com poucos dias de idade. Os filhotes já nascem com a agilidade necessária para ficar distante da mãe, pouco carinhosa e que pode matá-los. Com duas semanas de idade, as eminhas alcançam meio metro de altura, sem contar o pescoço.\\n É também o macho quem acompanha as crias, até se tornarem independentes (durante seis meses, pelo menos, quando atingem o tamanho de uma fêmea adulta). Cuida também dos filhotes órfãos e desgarrados, razão pela qual os componentes que acompanham o macho são, às vezes de diversas idades. Atingem a maturidade sexual aos dois a três anos de idade. Quando se encontram dois bandos pajeados, os dois machos travam uma briga entre si, ganhando o vencedor a chefia de todos.\\nO ninho está cheio de ovos, cerca de uma dúzia, ele afasta as fêmeas e começa a chocá-los. Os ovos são brancos e pesam 600 gramas. Os que não vingam são colocados para fora do ninho e, ao quebrarem, atraem muitas moscas, cujas larvas, posteriormente, irão alimentar os filhotes. Os filhotes saem seis semanas depois e são cuidados pelo pai, que os defende dos inimigos naturais, como cachorros-do-mato, lagartos, gaviões etc. Quando se encontram dois bandos pajeados, os dois machos travam uma briga entre si, ganhando o vencedor a chefia de todos. Em dois anos estão adultos.',\n",
       " 'habitos': 'A ema é uma ave corredora que ocorre em paisagens abertas da América do Sul, do Brasil até o sul da Argentina. Vive em campos naturais, cerrados e áreas de uso agropecuário (emAve campestre corredora, vive em campos, pampas, plantações, cerrados, savanas de cupins e varjões com buritirana no sudeste do Pará. No Rio Grande do Sul aparece próximo da orla marítima nos campos litorâneos.\\n Desaparece em locais em que a população humana é mais densa. Ela não voa, e usa suas grandes asas para equilibrar-se e mudar de direção ao correr. Quando faz muito calor, passa o dia dormindo e sai à noite para alimentar-se. Bebe pouca água. Quando algo muito próximo a assusta, abaixa o pescoço e afasta-se de repente num ziguezague ligeiro, erguendo as asas e inflando a plumagem. \\n São aves terrícolas por excelência e quando perseguida foge a grande velocidade dando passos de um metro e meio, podendo atingir mais de 60 km. por hora. Correm executando ziguezagues controlados pelas asas que são abaixadas e levantadas alternadamente. Andando tranquilamente movimenta as asas ritmicamente. Esconde-se deitando no solo desaparecendo inesperadamente. Descansam sentados sobre os tarsos e dormem com o pescoço esticado horizontalmente no chão ou dobrado para as costas. Quando está fazendo muito calor ofegam de bico meio aberto refrescando-se. Gostam de tomar banho entrando nos brejos e atravessando rios a nado, sendo bons nadadores. Tem excelente visão e, graças a seus olhos salientes conseguem ver para todos os lados. Vivem em bandos e procuram a companhia de ovelhas, vacas e veados campeiros.\\n São aves sedentárias e gregárias. Devido a hostilidade entre os machos, é natural que não se formem bandos numerosos, de várias famílias. Apesar disso, podem formar-se grupos de 20 a 30 animais, ou mesmo 100 indivíduos. Um macho pode lutar com outro macho para tomar-lhe as suas fêmeas e até mesmo suas crias. São aves rústicas que sobrevivem à seca; por outro lado, não suportam grandes períodos de chuvas pois suas penas não são impermeáveis e o excesso de umidade pode ser fatal para os filhotes. \\n Os agricultores não veem a ema com bons olhos; ela gosta de se alimentar dos tenros brotos e das sementes enterradas nas plantações; ao lado do Parque Nacional das Emas, GO, é comum vê-las (junto com os veados) saírem da área protegida para se alimentarem nas plantações contaminadas com agrotóxicos que, ingeridos, comprometem a saúde do animal e a de sua prole.  Por outro lado, os pecuaristas consideram esta ave útil por se alimentarem de pequenas serpentes além de carrapatos e moscas que parasitam o gado. Entre seus predadores naturais, estão incluídos mamíferos carnívoros, como felinos, crocodilianos e raramente sucuris. O homem o caça por motivos banais: para utilizar suas penas na confecção de espanadores e adornos ou simplesmente por esporte (principalmente nos pampas do Rio Grande do Sul e da Argentina, regiões onde a carne é abundante, sendo desnecessária seu abate), pelos gaúchos, que utilizam boleadeiras rodopiantes para derrubar o animal.\\n especial pastos e plantios de soja), mas apenas onde não é alvo de perseguição. Desaparece em locais em que a população humana é mais densa. Ela não voa, e usa suas grandes asas para equilibrar-se e mudar de direção ao correr. Quando faz muito calor, passa o dia dormindo e sai à noite para alimentar-se. Bebe pouca água. \\nQuando algo muito próximo a assusta, abaixa o pescoço e afasta-se de repente num ziguezague ligeiro, erguendo as asas e inflando a plumagem.',\n",
       " 'dist_geo': 'R (Comitê Brasileiro de Registros Ornitológicos) No Brasil, ocorre Centro-Oeste, Sul e Nordeste, muito comum em áreas de Cerrado e Pampas. Também ocorre na Argentina, Bolívia, Paraguai e Uruguai.\\nOcorria historicamente no extremo Nordeste do Brasil (Ceará, Rio Grande do Norte, Paraíba, Piauí, Pernambuco), porém esta subespéscie foi extinta ainda nos meados do século XX ocasionado pela caça. Na década de 1990 foram reintroduzidas na Paraíba e no Rio Grande do Norte, onde vivem atualmente de forma selvagem.',\n",
       " 'morfologia_llm_json': {'bico': 'Generalista',\n",
       "  'asa': 'Elíptica',\n",
       "  'pata': 'Anizodáctilo',\n",
       "  'cores': ['cinza', 'preto', 'amarelado'],\n",
       "  'tamanho': 'Grande'},\n",
       " 'food_llm_json': {'tipo': 'onívoro',\n",
       "  'itens': ['folhas',\n",
       "   'frutas',\n",
       "   'sementes',\n",
       "   'insetos',\n",
       "   'moluscos',\n",
       "   'peixes',\n",
       "   'lagartixas',\n",
       "   'roedores',\n",
       "   'ratos',\n",
       "   'rãs',\n",
       "   'coisas']},\n",
       " 'habitat_llm_json': {'habitat': ['campo natural', 'cerrado', 'pampa']},\n",
       " 'behavior_llm_json': {'locomocao': 'corredora',\n",
       "  'sociabilidade': 'gregária',\n",
       "  'atividade': ['diurna', 'crepuscular']},\n",
       " 'tipo_bico': 'Generalista',\n",
       " 'formato_asa': 'Elíptica',\n",
       " 'tipo_pata': 'Anizodáctilo',\n",
       " 'cores': ['cinza', 'preto', 'amarelado'],\n",
       " 'caracteristica_trofica': 'onívoro',\n",
       " 'dieta_principal': ['folhas',\n",
       "  'frutas',\n",
       "  'sementes',\n",
       "  'insetos',\n",
       "  'moluscos',\n",
       "  'peixes',\n",
       "  'lagartixas',\n",
       "  'roedores',\n",
       "  'ratos',\n",
       "  'rãs',\n",
       "  'coisas'],\n",
       " 'habitat': ['campo natural', 'cerrado', 'pampa'],\n",
       " 'locomocao': 'corredora',\n",
       " 'sociabilidade': 'gregária',\n",
       " 'atividade': ['diurna', 'crepuscular'],\n",
       " 'tipo_bico_recap': None}"
      ]
     },
     "execution_count": 15,
     "metadata": {},
     "output_type": "execute_result"
    }
   ],
   "source": [
    "with open(\"../data/parameterized_dataset_udi.json\") as file:\n",
    "    documents = json.load(file)\n",
    "\n",
    "documents[0]"
   ]
  },
  {
   "cell_type": "code",
   "execution_count": 19,
   "id": "870bbcc0",
   "metadata": {},
   "outputs": [
    {
     "data": {
      "text/plain": [
       "dict_keys(['taxonomia', 'ordem', 'familia', 'subfamilia', 'genero', 'especie', 'nome_pt', 'nome_eng', 'url_wikiaves', 'caracteristicas', 'alimentacao', 'reproducao', 'habitos', 'dist_geo', 'morfologia_llm_json', 'food_llm_json', 'habitat_llm_json', 'behavior_llm_json', 'tipo_bico', 'formato_asa', 'tipo_pata', 'cores', 'caracteristica_trofica', 'dieta_principal', 'habitat', 'locomocao', 'sociabilidade', 'atividade', 'tipo_bico_recap'])"
      ]
     },
     "execution_count": 19,
     "metadata": {},
     "output_type": "execute_result"
    }
   ],
   "source": [
    "documents[0].keys()"
   ]
  },
  {
   "cell_type": "code",
   "execution_count": 20,
   "id": "89a3a9bb",
   "metadata": {},
   "outputs": [
    {
     "data": {
      "text/plain": [
       "<minsearch.minsearch.Index at 0x72b567eb2e40>"
      ]
     },
     "execution_count": 20,
     "metadata": {},
     "output_type": "execute_result"
    }
   ],
   "source": [
    "index = minsearch.Index(\n",
    "    text_fields=[\"caracteristicas\",\"alimentacao\",\"habitos\",\"dist_geo\"],\n",
    "    keyword_fields=[\"cores\",\"dieta_principal\",\"habitat\",\"tipo_bico_recap\"]\n",
    ")\n",
    "\n",
    "index.fit(documents)\n"
   ]
  },
  {
   "cell_type": "code",
   "execution_count": 21,
   "id": "221f4c99",
   "metadata": {},
   "outputs": [],
   "source": [
    "def search(query, filter):\n",
    "    boost = {'question': 3.0, 'section': 0.5}\n",
    "\n",
    "    results = index.search(\n",
    "        query=query,\n",
    "        filter_dict=filter,\n",
    "        boost_dict=boost,\n",
    "        num_results=5\n",
    "    )\n",
    "\n",
    "    return results"
   ]
  },
  {
   "cell_type": "code",
   "execution_count": 22,
   "id": "514005be",
   "metadata": {},
   "outputs": [
    {
     "ename": "ValueError",
     "evalue": "('Lengths must match to compare', (564,), (3,))",
     "output_type": "error",
     "traceback": [
      "\u001b[31m---------------------------------------------------------------------------\u001b[39m",
      "\u001b[31mValueError\u001b[39m                                Traceback (most recent call last)",
      "\u001b[36mCell\u001b[39m\u001b[36m \u001b[39m\u001b[32mIn[22]\u001b[39m\u001b[32m, line 1\u001b[39m\n\u001b[32m----> \u001b[39m\u001b[32m1\u001b[39m search_results = \u001b[43msearch\u001b[49m\u001b[43m(\u001b[49m\n\u001b[32m      2\u001b[39m \u001b[43m    \u001b[49m\u001b[43mquery\u001b[49m\u001b[43m=\u001b[49m\u001b[33;43m\"\u001b[39;49m\u001b[33;43mAve pequena, com peito amarelo, dorso marrom e faixa preta nos olhos. Possui bico curto e reto, adequado para insetos. Foi vista vocalizando alto, em área urbana, caçando no ar e retornando ao mesmo ponto. Mostrou comportamento territorial.\u001b[39;49m\u001b[33;43m\"\u001b[39;49m\u001b[43m,\u001b[49m\n\u001b[32m      3\u001b[39m \u001b[43m    \u001b[49m\u001b[38;5;28;43mfilter\u001b[39;49m\u001b[43m=\u001b[49m\u001b[43m{\u001b[49m\u001b[33;43m\"\u001b[39;49m\u001b[33;43mcores\u001b[39;49m\u001b[33;43m\"\u001b[39;49m\u001b[43m:\u001b[49m\u001b[43m[\u001b[49m\u001b[33;43m\"\u001b[39;49m\u001b[33;43mamarelo\u001b[39;49m\u001b[33;43m\"\u001b[39;49m\u001b[43m,\u001b[49m\u001b[33;43m\"\u001b[39;49m\u001b[33;43mpreto\u001b[39;49m\u001b[33;43m\"\u001b[39;49m\u001b[43m,\u001b[49m\u001b[33;43m\"\u001b[39;49m\u001b[33;43mbranco\u001b[39;49m\u001b[33;43m\"\u001b[39;49m\u001b[43m]\u001b[49m\u001b[43m}\u001b[49m\n\u001b[32m      4\u001b[39m \u001b[43m)\u001b[49m\n\u001b[32m      5\u001b[39m search_results\n",
      "\u001b[36mCell\u001b[39m\u001b[36m \u001b[39m\u001b[32mIn[21]\u001b[39m\u001b[32m, line 4\u001b[39m, in \u001b[36msearch\u001b[39m\u001b[34m(query, filter)\u001b[39m\n\u001b[32m      1\u001b[39m \u001b[38;5;28;01mdef\u001b[39;00m\u001b[38;5;250m \u001b[39m\u001b[34msearch\u001b[39m(query, \u001b[38;5;28mfilter\u001b[39m):\n\u001b[32m      2\u001b[39m     boost = {\u001b[33m'\u001b[39m\u001b[33mquestion\u001b[39m\u001b[33m'\u001b[39m: \u001b[32m3.0\u001b[39m, \u001b[33m'\u001b[39m\u001b[33msection\u001b[39m\u001b[33m'\u001b[39m: \u001b[32m0.5\u001b[39m}\n\u001b[32m----> \u001b[39m\u001b[32m4\u001b[39m     results = \u001b[43mindex\u001b[49m\u001b[43m.\u001b[49m\u001b[43msearch\u001b[49m\u001b[43m(\u001b[49m\n\u001b[32m      5\u001b[39m \u001b[43m        \u001b[49m\u001b[43mquery\u001b[49m\u001b[43m=\u001b[49m\u001b[43mquery\u001b[49m\u001b[43m,\u001b[49m\n\u001b[32m      6\u001b[39m \u001b[43m        \u001b[49m\u001b[43mfilter_dict\u001b[49m\u001b[43m=\u001b[49m\u001b[38;5;28;43mfilter\u001b[39;49m\u001b[43m,\u001b[49m\n\u001b[32m      7\u001b[39m \u001b[43m        \u001b[49m\u001b[43mboost_dict\u001b[49m\u001b[43m=\u001b[49m\u001b[43mboost\u001b[49m\u001b[43m,\u001b[49m\n\u001b[32m      8\u001b[39m \u001b[43m        \u001b[49m\u001b[43mnum_results\u001b[49m\u001b[43m=\u001b[49m\u001b[32;43m5\u001b[39;49m\n\u001b[32m      9\u001b[39m \u001b[43m    \u001b[49m\u001b[43m)\u001b[49m\n\u001b[32m     11\u001b[39m     \u001b[38;5;28;01mreturn\u001b[39;00m results\n",
      "\u001b[36mFile \u001b[39m\u001b[32m~/snap/code/198/.local/share/virtualenvs/avesrag-assistant-Eg3_k_ic/lib/python3.13/site-packages/minsearch/minsearch.py:121\u001b[39m, in \u001b[36mIndex.search\u001b[39m\u001b[34m(self, query, filter_dict, boost_dict, num_results, output_ids)\u001b[39m\n\u001b[32m    119\u001b[39m \u001b[38;5;28;01mfor\u001b[39;00m field, value \u001b[38;5;129;01min\u001b[39;00m filter_dict.items():\n\u001b[32m    120\u001b[39m     \u001b[38;5;28;01mif\u001b[39;00m field \u001b[38;5;129;01min\u001b[39;00m \u001b[38;5;28mself\u001b[39m.keyword_fields:\n\u001b[32m--> \u001b[39m\u001b[32m121\u001b[39m         mask = \u001b[38;5;28;43mself\u001b[39;49m\u001b[43m.\u001b[49m\u001b[43mkeyword_df\u001b[49m\u001b[43m[\u001b[49m\u001b[43mfield\u001b[49m\u001b[43m]\u001b[49m\u001b[43m \u001b[49m\u001b[43m==\u001b[49m\u001b[43m \u001b[49m\u001b[43mvalue\u001b[49m\n\u001b[32m    122\u001b[39m         scores = scores * mask.to_numpy()\n\u001b[32m    124\u001b[39m \u001b[38;5;66;03m# Get number of non-zero scores\u001b[39;00m\n",
      "\u001b[36mFile \u001b[39m\u001b[32m~/snap/code/198/.local/share/virtualenvs/avesrag-assistant-Eg3_k_ic/lib/python3.13/site-packages/pandas/core/ops/common.py:76\u001b[39m, in \u001b[36m_unpack_zerodim_and_defer.<locals>.new_method\u001b[39m\u001b[34m(self, other)\u001b[39m\n\u001b[32m     72\u001b[39m             \u001b[38;5;28;01mreturn\u001b[39;00m \u001b[38;5;28mNotImplemented\u001b[39m\n\u001b[32m     74\u001b[39m other = item_from_zerodim(other)\n\u001b[32m---> \u001b[39m\u001b[32m76\u001b[39m \u001b[38;5;28;01mreturn\u001b[39;00m \u001b[43mmethod\u001b[49m\u001b[43m(\u001b[49m\u001b[38;5;28;43mself\u001b[39;49m\u001b[43m,\u001b[49m\u001b[43m \u001b[49m\u001b[43mother\u001b[49m\u001b[43m)\u001b[49m\n",
      "\u001b[36mFile \u001b[39m\u001b[32m~/snap/code/198/.local/share/virtualenvs/avesrag-assistant-Eg3_k_ic/lib/python3.13/site-packages/pandas/core/arraylike.py:40\u001b[39m, in \u001b[36mOpsMixin.__eq__\u001b[39m\u001b[34m(self, other)\u001b[39m\n\u001b[32m     38\u001b[39m \u001b[38;5;129m@unpack_zerodim_and_defer\u001b[39m(\u001b[33m\"\u001b[39m\u001b[33m__eq__\u001b[39m\u001b[33m\"\u001b[39m)\n\u001b[32m     39\u001b[39m \u001b[38;5;28;01mdef\u001b[39;00m\u001b[38;5;250m \u001b[39m\u001b[34m__eq__\u001b[39m(\u001b[38;5;28mself\u001b[39m, other):\n\u001b[32m---> \u001b[39m\u001b[32m40\u001b[39m     \u001b[38;5;28;01mreturn\u001b[39;00m \u001b[38;5;28;43mself\u001b[39;49m\u001b[43m.\u001b[49m\u001b[43m_cmp_method\u001b[49m\u001b[43m(\u001b[49m\u001b[43mother\u001b[49m\u001b[43m,\u001b[49m\u001b[43m \u001b[49m\u001b[43moperator\u001b[49m\u001b[43m.\u001b[49m\u001b[43meq\u001b[49m\u001b[43m)\u001b[49m\n",
      "\u001b[36mFile \u001b[39m\u001b[32m~/snap/code/198/.local/share/virtualenvs/avesrag-assistant-Eg3_k_ic/lib/python3.13/site-packages/pandas/core/series.py:6130\u001b[39m, in \u001b[36mSeries._cmp_method\u001b[39m\u001b[34m(self, other, op)\u001b[39m\n\u001b[32m   6127\u001b[39m lvalues = \u001b[38;5;28mself\u001b[39m._values\n\u001b[32m   6128\u001b[39m rvalues = extract_array(other, extract_numpy=\u001b[38;5;28;01mTrue\u001b[39;00m, extract_range=\u001b[38;5;28;01mTrue\u001b[39;00m)\n\u001b[32m-> \u001b[39m\u001b[32m6130\u001b[39m res_values = \u001b[43mops\u001b[49m\u001b[43m.\u001b[49m\u001b[43mcomparison_op\u001b[49m\u001b[43m(\u001b[49m\u001b[43mlvalues\u001b[49m\u001b[43m,\u001b[49m\u001b[43m \u001b[49m\u001b[43mrvalues\u001b[49m\u001b[43m,\u001b[49m\u001b[43m \u001b[49m\u001b[43mop\u001b[49m\u001b[43m)\u001b[49m\n\u001b[32m   6132\u001b[39m \u001b[38;5;28;01mreturn\u001b[39;00m \u001b[38;5;28mself\u001b[39m._construct_result(res_values, name=res_name)\n",
      "\u001b[36mFile \u001b[39m\u001b[32m~/snap/code/198/.local/share/virtualenvs/avesrag-assistant-Eg3_k_ic/lib/python3.13/site-packages/pandas/core/ops/array_ops.py:321\u001b[39m, in \u001b[36mcomparison_op\u001b[39m\u001b[34m(left, right, op)\u001b[39m\n\u001b[32m    316\u001b[39m \u001b[38;5;28;01mif\u001b[39;00m \u001b[38;5;28misinstance\u001b[39m(rvalues, (np.ndarray, ABCExtensionArray)):\n\u001b[32m    317\u001b[39m     \u001b[38;5;66;03m# TODO: make this treatment consistent across ops and classes.\u001b[39;00m\n\u001b[32m    318\u001b[39m     \u001b[38;5;66;03m#  We are not catching all listlikes here (e.g. frozenset, tuple)\u001b[39;00m\n\u001b[32m    319\u001b[39m     \u001b[38;5;66;03m#  The ambiguous case is object-dtype.  See GH#27803\u001b[39;00m\n\u001b[32m    320\u001b[39m     \u001b[38;5;28;01mif\u001b[39;00m \u001b[38;5;28mlen\u001b[39m(lvalues) != \u001b[38;5;28mlen\u001b[39m(rvalues):\n\u001b[32m--> \u001b[39m\u001b[32m321\u001b[39m         \u001b[38;5;28;01mraise\u001b[39;00m \u001b[38;5;167;01mValueError\u001b[39;00m(\n\u001b[32m    322\u001b[39m             \u001b[33m\"\u001b[39m\u001b[33mLengths must match to compare\u001b[39m\u001b[33m\"\u001b[39m, lvalues.shape, rvalues.shape\n\u001b[32m    323\u001b[39m         )\n\u001b[32m    325\u001b[39m \u001b[38;5;28;01mif\u001b[39;00m should_extension_dispatch(lvalues, rvalues) \u001b[38;5;129;01mor\u001b[39;00m (\n\u001b[32m    326\u001b[39m     (\u001b[38;5;28misinstance\u001b[39m(rvalues, (Timedelta, BaseOffset, Timestamp)) \u001b[38;5;129;01mor\u001b[39;00m right \u001b[38;5;129;01mis\u001b[39;00m NaT)\n\u001b[32m    327\u001b[39m     \u001b[38;5;129;01mand\u001b[39;00m lvalues.dtype != \u001b[38;5;28mobject\u001b[39m\n\u001b[32m    328\u001b[39m ):\n\u001b[32m    329\u001b[39m     \u001b[38;5;66;03m# Call the method on lvalues\u001b[39;00m\n\u001b[32m    330\u001b[39m     res_values = op(lvalues, rvalues)\n",
      "\u001b[31mValueError\u001b[39m: ('Lengths must match to compare', (564,), (3,))"
     ]
    }
   ],
   "source": [
    "search_results = search(\n",
    "    query=\"Ave pequena, com peito amarelo, dorso marrom e faixa preta nos olhos. Possui bico curto e reto, adequado para insetos. Foi vista vocalizando alto, em área urbana, caçando no ar e retornando ao mesmo ponto. Mostrou comportamento territorial.\",\n",
    "    filter={\"cores\":[\"amarelo\",\"preto\",\"branco\"]}\n",
    ")\n",
    "search_results"
   ]
  }
 ],
 "metadata": {
  "kernelspec": {
   "display_name": "avesrag-assistant-Eg3_k_ic",
   "language": "python",
   "name": "python3"
  },
  "language_info": {
   "codemirror_mode": {
    "name": "ipython",
    "version": 3
   },
   "file_extension": ".py",
   "mimetype": "text/x-python",
   "name": "python",
   "nbconvert_exporter": "python",
   "pygments_lexer": "ipython3",
   "version": "3.13.1"
  }
 },
 "nbformat": 4,
 "nbformat_minor": 5
}
